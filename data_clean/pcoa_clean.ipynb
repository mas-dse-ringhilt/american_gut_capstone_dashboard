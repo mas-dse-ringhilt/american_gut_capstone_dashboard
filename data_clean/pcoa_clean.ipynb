{
 "cells": [
  {
   "cell_type": "code",
   "execution_count": 1,
   "metadata": {},
   "outputs": [],
   "source": [
    "import pandas as pd\n",
    "import numpy as np"
   ]
  },
  {
   "cell_type": "code",
   "execution_count": 2,
   "metadata": {},
   "outputs": [
    {
     "name": "stdout",
     "output_type": "stream",
     "text": [
      "(2909, 2910)\n"
     ]
    }
   ],
   "source": [
    "pca_df = pd.read_csv('../data/6.2.19.pca.data/raw_input_data/sample3000_pcoa_results.csv')\n",
    "print(pca_df.shape)"
   ]
  },
  {
   "cell_type": "code",
   "execution_count": 3,
   "metadata": {},
   "outputs": [
    {
     "data": {
      "text/html": [
       "<div>\n",
       "<style scoped>\n",
       "    .dataframe tbody tr th:only-of-type {\n",
       "        vertical-align: middle;\n",
       "    }\n",
       "\n",
       "    .dataframe tbody tr th {\n",
       "        vertical-align: top;\n",
       "    }\n",
       "\n",
       "    .dataframe thead th {\n",
       "        text-align: right;\n",
       "    }\n",
       "</style>\n",
       "<table border=\"1\" class=\"dataframe\">\n",
       "  <thead>\n",
       "    <tr style=\"text-align: right;\">\n",
       "      <th></th>\n",
       "      <th>index</th>\n",
       "      <th>PC1</th>\n",
       "      <th>PC2</th>\n",
       "      <th>PC3</th>\n",
       "      <th>PC4</th>\n",
       "      <th>PC5</th>\n",
       "      <th>PC6</th>\n",
       "      <th>PC7</th>\n",
       "      <th>PC8</th>\n",
       "      <th>PC9</th>\n",
       "      <th>...</th>\n",
       "      <th>PC2900</th>\n",
       "      <th>PC2901</th>\n",
       "      <th>PC2902</th>\n",
       "      <th>PC2903</th>\n",
       "      <th>PC2904</th>\n",
       "      <th>PC2905</th>\n",
       "      <th>PC2906</th>\n",
       "      <th>PC2907</th>\n",
       "      <th>PC2908</th>\n",
       "      <th>PC2909</th>\n",
       "    </tr>\n",
       "  </thead>\n",
       "  <tbody>\n",
       "    <tr>\n",
       "      <th>0</th>\n",
       "      <td>10317.000065489.31503</td>\n",
       "      <td>-0.393590</td>\n",
       "      <td>0.027929</td>\n",
       "      <td>-0.036558</td>\n",
       "      <td>-0.050171</td>\n",
       "      <td>-0.125850</td>\n",
       "      <td>-0.024385</td>\n",
       "      <td>-0.028041</td>\n",
       "      <td>-0.012835</td>\n",
       "      <td>0.020061</td>\n",
       "      <td>...</td>\n",
       "      <td>0.0</td>\n",
       "      <td>0.0</td>\n",
       "      <td>0.0</td>\n",
       "      <td>0.0</td>\n",
       "      <td>0.0</td>\n",
       "      <td>0.0</td>\n",
       "      <td>0.0</td>\n",
       "      <td>0.0</td>\n",
       "      <td>0.0</td>\n",
       "      <td>0.0</td>\n",
       "    </tr>\n",
       "    <tr>\n",
       "      <th>1</th>\n",
       "      <td>10317.000069747.26478</td>\n",
       "      <td>-0.315788</td>\n",
       "      <td>0.062613</td>\n",
       "      <td>0.104440</td>\n",
       "      <td>0.033080</td>\n",
       "      <td>0.106680</td>\n",
       "      <td>0.126636</td>\n",
       "      <td>0.002741</td>\n",
       "      <td>-0.082590</td>\n",
       "      <td>-0.001562</td>\n",
       "      <td>...</td>\n",
       "      <td>0.0</td>\n",
       "      <td>0.0</td>\n",
       "      <td>0.0</td>\n",
       "      <td>0.0</td>\n",
       "      <td>0.0</td>\n",
       "      <td>0.0</td>\n",
       "      <td>0.0</td>\n",
       "      <td>0.0</td>\n",
       "      <td>0.0</td>\n",
       "      <td>0.0</td>\n",
       "    </tr>\n",
       "    <tr>\n",
       "      <th>2</th>\n",
       "      <td>10317.000023232.2982</td>\n",
       "      <td>-0.398081</td>\n",
       "      <td>0.068527</td>\n",
       "      <td>-0.015303</td>\n",
       "      <td>-0.031338</td>\n",
       "      <td>0.010249</td>\n",
       "      <td>0.015963</td>\n",
       "      <td>-0.013031</td>\n",
       "      <td>-0.052156</td>\n",
       "      <td>0.029381</td>\n",
       "      <td>...</td>\n",
       "      <td>0.0</td>\n",
       "      <td>0.0</td>\n",
       "      <td>0.0</td>\n",
       "      <td>0.0</td>\n",
       "      <td>0.0</td>\n",
       "      <td>0.0</td>\n",
       "      <td>0.0</td>\n",
       "      <td>0.0</td>\n",
       "      <td>0.0</td>\n",
       "      <td>0.0</td>\n",
       "    </tr>\n",
       "    <tr>\n",
       "      <th>3</th>\n",
       "      <td>10317.000051191.4491</td>\n",
       "      <td>-0.163050</td>\n",
       "      <td>0.041164</td>\n",
       "      <td>0.182212</td>\n",
       "      <td>0.053462</td>\n",
       "      <td>0.122172</td>\n",
       "      <td>0.124982</td>\n",
       "      <td>-0.078933</td>\n",
       "      <td>-0.064252</td>\n",
       "      <td>0.017721</td>\n",
       "      <td>...</td>\n",
       "      <td>0.0</td>\n",
       "      <td>0.0</td>\n",
       "      <td>0.0</td>\n",
       "      <td>0.0</td>\n",
       "      <td>0.0</td>\n",
       "      <td>0.0</td>\n",
       "      <td>0.0</td>\n",
       "      <td>0.0</td>\n",
       "      <td>0.0</td>\n",
       "      <td>0.0</td>\n",
       "    </tr>\n",
       "    <tr>\n",
       "      <th>4</th>\n",
       "      <td>10317.000031030.2982</td>\n",
       "      <td>-0.360036</td>\n",
       "      <td>-0.003247</td>\n",
       "      <td>-0.071989</td>\n",
       "      <td>-0.009543</td>\n",
       "      <td>-0.093841</td>\n",
       "      <td>-0.059679</td>\n",
       "      <td>-0.019837</td>\n",
       "      <td>-0.067975</td>\n",
       "      <td>0.083306</td>\n",
       "      <td>...</td>\n",
       "      <td>0.0</td>\n",
       "      <td>0.0</td>\n",
       "      <td>0.0</td>\n",
       "      <td>0.0</td>\n",
       "      <td>0.0</td>\n",
       "      <td>0.0</td>\n",
       "      <td>0.0</td>\n",
       "      <td>0.0</td>\n",
       "      <td>0.0</td>\n",
       "      <td>0.0</td>\n",
       "    </tr>\n",
       "  </tbody>\n",
       "</table>\n",
       "<p>5 rows × 2910 columns</p>\n",
       "</div>"
      ],
      "text/plain": [
       "                   index       PC1       PC2       PC3       PC4       PC5  \\\n",
       "0  10317.000065489.31503 -0.393590  0.027929 -0.036558 -0.050171 -0.125850   \n",
       "1  10317.000069747.26478 -0.315788  0.062613  0.104440  0.033080  0.106680   \n",
       "2   10317.000023232.2982 -0.398081  0.068527 -0.015303 -0.031338  0.010249   \n",
       "3   10317.000051191.4491 -0.163050  0.041164  0.182212  0.053462  0.122172   \n",
       "4   10317.000031030.2982 -0.360036 -0.003247 -0.071989 -0.009543 -0.093841   \n",
       "\n",
       "        PC6       PC7       PC8       PC9   ...    PC2900  PC2901  PC2902  \\\n",
       "0 -0.024385 -0.028041 -0.012835  0.020061   ...       0.0     0.0     0.0   \n",
       "1  0.126636  0.002741 -0.082590 -0.001562   ...       0.0     0.0     0.0   \n",
       "2  0.015963 -0.013031 -0.052156  0.029381   ...       0.0     0.0     0.0   \n",
       "3  0.124982 -0.078933 -0.064252  0.017721   ...       0.0     0.0     0.0   \n",
       "4 -0.059679 -0.019837 -0.067975  0.083306   ...       0.0     0.0     0.0   \n",
       "\n",
       "   PC2903  PC2904  PC2905  PC2906  PC2907  PC2908  PC2909  \n",
       "0     0.0     0.0     0.0     0.0     0.0     0.0     0.0  \n",
       "1     0.0     0.0     0.0     0.0     0.0     0.0     0.0  \n",
       "2     0.0     0.0     0.0     0.0     0.0     0.0     0.0  \n",
       "3     0.0     0.0     0.0     0.0     0.0     0.0     0.0  \n",
       "4     0.0     0.0     0.0     0.0     0.0     0.0     0.0  \n",
       "\n",
       "[5 rows x 2910 columns]"
      ]
     },
     "execution_count": 3,
     "metadata": {},
     "output_type": "execute_result"
    }
   ],
   "source": [
    "pca_df.head()"
   ]
  },
  {
   "cell_type": "code",
   "execution_count": 4,
   "metadata": {},
   "outputs": [],
   "source": [
    "pca_df = pca_df[['index', 'PC1', 'PC2', 'PC3']]"
   ]
  },
  {
   "cell_type": "code",
   "execution_count": 5,
   "metadata": {},
   "outputs": [
    {
     "data": {
      "text/html": [
       "<div>\n",
       "<style scoped>\n",
       "    .dataframe tbody tr th:only-of-type {\n",
       "        vertical-align: middle;\n",
       "    }\n",
       "\n",
       "    .dataframe tbody tr th {\n",
       "        vertical-align: top;\n",
       "    }\n",
       "\n",
       "    .dataframe thead th {\n",
       "        text-align: right;\n",
       "    }\n",
       "</style>\n",
       "<table border=\"1\" class=\"dataframe\">\n",
       "  <thead>\n",
       "    <tr style=\"text-align: right;\">\n",
       "      <th></th>\n",
       "      <th>index</th>\n",
       "      <th>PC1</th>\n",
       "      <th>PC2</th>\n",
       "      <th>PC3</th>\n",
       "    </tr>\n",
       "  </thead>\n",
       "  <tbody>\n",
       "    <tr>\n",
       "      <th>0</th>\n",
       "      <td>10317.000065489.31503</td>\n",
       "      <td>-0.393590</td>\n",
       "      <td>0.027929</td>\n",
       "      <td>-0.036558</td>\n",
       "    </tr>\n",
       "    <tr>\n",
       "      <th>1</th>\n",
       "      <td>10317.000069747.26478</td>\n",
       "      <td>-0.315788</td>\n",
       "      <td>0.062613</td>\n",
       "      <td>0.104440</td>\n",
       "    </tr>\n",
       "  </tbody>\n",
       "</table>\n",
       "</div>"
      ],
      "text/plain": [
       "                   index       PC1       PC2       PC3\n",
       "0  10317.000065489.31503 -0.393590  0.027929 -0.036558\n",
       "1  10317.000069747.26478 -0.315788  0.062613  0.104440"
      ]
     },
     "execution_count": 5,
     "metadata": {},
     "output_type": "execute_result"
    }
   ],
   "source": [
    "pca_df.head(2)"
   ]
  },
  {
   "cell_type": "code",
   "execution_count": 6,
   "metadata": {},
   "outputs": [],
   "source": [
    "pca_df.columns = ['sample_name', 'PC1', 'PC2', 'PC3']"
   ]
  },
  {
   "cell_type": "code",
   "execution_count": 7,
   "metadata": {},
   "outputs": [],
   "source": [
    "def meta_df_id_clean(meta_df):\n",
    "    meta_df['sample_id'] = meta_df['sample_name'].apply(lambda x: x.split('.')[1])\n",
    "    meta_df['sample_id'] = pd.to_numeric(meta_df['sample_id'], errors='coerce', downcast='integer')\n",
    "    meta_df_clean = meta_df.dropna(subset=['sample_id']).reset_index()\n",
    "    meta_df_clean['sample_id'] = meta_df_clean['sample_id'].apply(lambda x: int(x))\n",
    "    return meta_df_clean"
   ]
  },
  {
   "cell_type": "code",
   "execution_count": 8,
   "metadata": {},
   "outputs": [],
   "source": [
    "def biom_id_clean(biom_df):\n",
    "    biom_df['sample_id'] = biom_df['sample_name'].apply(lambda x: x.split('.')[1])\n",
    "    biom_df['sample_id'] = pd.to_numeric(biom_df['sample_id'], errors='coerce', downcast='integer')\n",
    "    biom_join_df = biom_df.dropna(subset=['sample_id'])\n",
    "    biom_join_df['sample_id'] = biom_join_df['sample_id'].apply(lambda x: int(x))\n",
    "    return biom_join_df"
   ]
  },
  {
   "cell_type": "code",
   "execution_count": 9,
   "metadata": {},
   "outputs": [],
   "source": [
    "pca_df = biom_id_clean(pca_df)"
   ]
  },
  {
   "cell_type": "code",
   "execution_count": 10,
   "metadata": {},
   "outputs": [
    {
     "data": {
      "text/html": [
       "<div>\n",
       "<style scoped>\n",
       "    .dataframe tbody tr th:only-of-type {\n",
       "        vertical-align: middle;\n",
       "    }\n",
       "\n",
       "    .dataframe tbody tr th {\n",
       "        vertical-align: top;\n",
       "    }\n",
       "\n",
       "    .dataframe thead th {\n",
       "        text-align: right;\n",
       "    }\n",
       "</style>\n",
       "<table border=\"1\" class=\"dataframe\">\n",
       "  <thead>\n",
       "    <tr style=\"text-align: right;\">\n",
       "      <th></th>\n",
       "      <th>sample_name</th>\n",
       "      <th>PC1</th>\n",
       "      <th>PC2</th>\n",
       "      <th>PC3</th>\n",
       "      <th>sample_id</th>\n",
       "    </tr>\n",
       "  </thead>\n",
       "  <tbody>\n",
       "    <tr>\n",
       "      <th>0</th>\n",
       "      <td>10317.000065489.31503</td>\n",
       "      <td>-0.393590</td>\n",
       "      <td>0.027929</td>\n",
       "      <td>-0.036558</td>\n",
       "      <td>65489</td>\n",
       "    </tr>\n",
       "    <tr>\n",
       "      <th>1</th>\n",
       "      <td>10317.000069747.26478</td>\n",
       "      <td>-0.315788</td>\n",
       "      <td>0.062613</td>\n",
       "      <td>0.104440</td>\n",
       "      <td>69747</td>\n",
       "    </tr>\n",
       "  </tbody>\n",
       "</table>\n",
       "</div>"
      ],
      "text/plain": [
       "             sample_name       PC1       PC2       PC3  sample_id\n",
       "0  10317.000065489.31503 -0.393590  0.027929 -0.036558      65489\n",
       "1  10317.000069747.26478 -0.315788  0.062613  0.104440      69747"
      ]
     },
     "execution_count": 10,
     "metadata": {},
     "output_type": "execute_result"
    }
   ],
   "source": [
    "pca_df.head(2)"
   ]
  },
  {
   "cell_type": "code",
   "execution_count": 11,
   "metadata": {},
   "outputs": [
    {
     "data": {
      "text/plain": [
       "(2909, 5)"
      ]
     },
     "execution_count": 11,
     "metadata": {},
     "output_type": "execute_result"
    }
   ],
   "source": [
    "pca_df.shape"
   ]
  },
  {
   "cell_type": "code",
   "execution_count": 12,
   "metadata": {},
   "outputs": [],
   "source": [
    "meta_df = pd.read_csv('../data/all_body_4.16.agp_only_meta.csv', low_memory=False)"
   ]
  },
  {
   "cell_type": "code",
   "execution_count": 13,
   "metadata": {},
   "outputs": [
    {
     "name": "stdout",
     "output_type": "stream",
     "text": [
      "(22807, 326)\n"
     ]
    }
   ],
   "source": [
    "print(meta_df.shape)"
   ]
  },
  {
   "cell_type": "code",
   "execution_count": 14,
   "metadata": {},
   "outputs": [],
   "source": [
    "#meta_df.head()"
   ]
  },
  {
   "cell_type": "code",
   "execution_count": 15,
   "metadata": {},
   "outputs": [],
   "source": [
    "meta_df = meta_df[['sample_id', 'env_material']]"
   ]
  },
  {
   "cell_type": "code",
   "execution_count": 16,
   "metadata": {},
   "outputs": [
    {
     "name": "stdout",
     "output_type": "stream",
     "text": [
      "(2909, 6)\n"
     ]
    }
   ],
   "source": [
    "PC2_df = pd.merge(pca_df, meta_df, on='sample_id')\n",
    "print(PC2_df.shape)"
   ]
  },
  {
   "cell_type": "code",
   "execution_count": 17,
   "metadata": {},
   "outputs": [
    {
     "data": {
      "text/plain": [
       "sebum     1013\n",
       "saliva     994\n",
       "feces      902\n",
       "Name: env_material, dtype: int64"
      ]
     },
     "execution_count": 17,
     "metadata": {},
     "output_type": "execute_result"
    }
   ],
   "source": [
    "PC2_df.env_material.value_counts()"
   ]
  },
  {
   "cell_type": "code",
   "execution_count": 18,
   "metadata": {},
   "outputs": [
    {
     "data": {
      "text/html": [
       "<div>\n",
       "<style scoped>\n",
       "    .dataframe tbody tr th:only-of-type {\n",
       "        vertical-align: middle;\n",
       "    }\n",
       "\n",
       "    .dataframe tbody tr th {\n",
       "        vertical-align: top;\n",
       "    }\n",
       "\n",
       "    .dataframe thead th {\n",
       "        text-align: right;\n",
       "    }\n",
       "</style>\n",
       "<table border=\"1\" class=\"dataframe\">\n",
       "  <thead>\n",
       "    <tr style=\"text-align: right;\">\n",
       "      <th></th>\n",
       "      <th>sample_name</th>\n",
       "      <th>PC1</th>\n",
       "      <th>PC2</th>\n",
       "      <th>PC3</th>\n",
       "      <th>sample_id</th>\n",
       "      <th>env_material</th>\n",
       "    </tr>\n",
       "  </thead>\n",
       "  <tbody>\n",
       "    <tr>\n",
       "      <th>0</th>\n",
       "      <td>10317.000065489.31503</td>\n",
       "      <td>-0.393590</td>\n",
       "      <td>0.027929</td>\n",
       "      <td>-0.036558</td>\n",
       "      <td>65489</td>\n",
       "      <td>feces</td>\n",
       "    </tr>\n",
       "    <tr>\n",
       "      <th>1</th>\n",
       "      <td>10317.000069747.26478</td>\n",
       "      <td>-0.315788</td>\n",
       "      <td>0.062613</td>\n",
       "      <td>0.104440</td>\n",
       "      <td>69747</td>\n",
       "      <td>feces</td>\n",
       "    </tr>\n",
       "    <tr>\n",
       "      <th>2</th>\n",
       "      <td>10317.000023232.2982</td>\n",
       "      <td>-0.398081</td>\n",
       "      <td>0.068527</td>\n",
       "      <td>-0.015303</td>\n",
       "      <td>23232</td>\n",
       "      <td>feces</td>\n",
       "    </tr>\n",
       "    <tr>\n",
       "      <th>3</th>\n",
       "      <td>10317.000051191.4491</td>\n",
       "      <td>-0.163050</td>\n",
       "      <td>0.041164</td>\n",
       "      <td>0.182212</td>\n",
       "      <td>51191</td>\n",
       "      <td>feces</td>\n",
       "    </tr>\n",
       "    <tr>\n",
       "      <th>4</th>\n",
       "      <td>10317.000031030.2982</td>\n",
       "      <td>-0.360036</td>\n",
       "      <td>-0.003247</td>\n",
       "      <td>-0.071989</td>\n",
       "      <td>31030</td>\n",
       "      <td>feces</td>\n",
       "    </tr>\n",
       "  </tbody>\n",
       "</table>\n",
       "</div>"
      ],
      "text/plain": [
       "             sample_name       PC1       PC2       PC3  sample_id env_material\n",
       "0  10317.000065489.31503 -0.393590  0.027929 -0.036558      65489        feces\n",
       "1  10317.000069747.26478 -0.315788  0.062613  0.104440      69747        feces\n",
       "2   10317.000023232.2982 -0.398081  0.068527 -0.015303      23232        feces\n",
       "3   10317.000051191.4491 -0.163050  0.041164  0.182212      51191        feces\n",
       "4   10317.000031030.2982 -0.360036 -0.003247 -0.071989      31030        feces"
      ]
     },
     "execution_count": 18,
     "metadata": {},
     "output_type": "execute_result"
    }
   ],
   "source": [
    "PC2_df.head()"
   ]
  },
  {
   "cell_type": "code",
   "execution_count": 19,
   "metadata": {},
   "outputs": [],
   "source": [
    "PC2_df = PC2_df[['sample_id', 'PC1', 'PC2', 'PC3', 'env_material']]"
   ]
  },
  {
   "cell_type": "code",
   "execution_count": 20,
   "metadata": {},
   "outputs": [],
   "source": [
    "PC2_df.columns = ['sample_id', 'PC1', 'PC2', 'PC3', 'label']"
   ]
  },
  {
   "cell_type": "code",
   "execution_count": 21,
   "metadata": {},
   "outputs": [
    {
     "data": {
      "text/plain": [
       "sebum     1013\n",
       "saliva     994\n",
       "feces      902\n",
       "Name: label, dtype: int64"
      ]
     },
     "execution_count": 21,
     "metadata": {},
     "output_type": "execute_result"
    }
   ],
   "source": [
    "PC2_df.label.value_counts()"
   ]
  },
  {
   "cell_type": "code",
   "execution_count": 101,
   "metadata": {},
   "outputs": [],
   "source": [
    "PC2_df.to_csv('../../data/6.2.19.pca.data/output_data/beta_pcoa_3000sample.csv')"
   ]
  }
 ],
 "metadata": {
  "kernelspec": {
   "display_name": "py3dev",
   "language": "python",
   "name": "py3dev"
  },
  "language_info": {
   "codemirror_mode": {
    "name": "ipython",
    "version": 3
   },
   "file_extension": ".py",
   "mimetype": "text/x-python",
   "name": "python",
   "nbconvert_exporter": "python",
   "pygments_lexer": "ipython3",
   "version": "3.6.2"
  }
 },
 "nbformat": 4,
 "nbformat_minor": 2
}
