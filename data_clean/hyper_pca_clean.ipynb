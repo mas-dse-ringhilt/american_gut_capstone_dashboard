{
 "cells": [
  {
   "cell_type": "code",
   "execution_count": 3,
   "metadata": {},
   "outputs": [],
   "source": [
    "import pandas as pd\n",
    "import numpy as np"
   ]
  },
  {
   "cell_type": "code",
   "execution_count": 2,
   "metadata": {},
   "outputs": [
    {
     "name": "stdout",
     "output_type": "stream",
     "text": [
      "(19761, 5)\n"
     ]
    }
   ],
   "source": [
    "hyper_df = pd.read_csv('../data/6.2.19.pca.data/raw_input_data/hyperbolic_pca.csv')\n",
    "print(hyper_df.shape)"
   ]
  },
  {
   "cell_type": "code",
   "execution_count": 15,
   "metadata": {},
   "outputs": [
    {
     "data": {
      "text/html": [
       "<div>\n",
       "<style scoped>\n",
       "    .dataframe tbody tr th:only-of-type {\n",
       "        vertical-align: middle;\n",
       "    }\n",
       "\n",
       "    .dataframe tbody tr th {\n",
       "        vertical-align: top;\n",
       "    }\n",
       "\n",
       "    .dataframe thead th {\n",
       "        text-align: right;\n",
       "    }\n",
       "</style>\n",
       "<table border=\"1\" class=\"dataframe\">\n",
       "  <thead>\n",
       "    <tr style=\"text-align: right;\">\n",
       "      <th></th>\n",
       "      <th>sample_id</th>\n",
       "      <th>0</th>\n",
       "      <th>1</th>\n",
       "      <th>2</th>\n",
       "      <th>env_material</th>\n",
       "    </tr>\n",
       "  </thead>\n",
       "  <tbody>\n",
       "    <tr>\n",
       "      <th>0</th>\n",
       "      <td>47146</td>\n",
       "      <td>7.81</td>\n",
       "      <td>1.21</td>\n",
       "      <td>4.99</td>\n",
       "      <td>feces</td>\n",
       "    </tr>\n",
       "    <tr>\n",
       "      <th>1</th>\n",
       "      <td>22501</td>\n",
       "      <td>0.58</td>\n",
       "      <td>-4.22</td>\n",
       "      <td>-0.34</td>\n",
       "      <td>feces</td>\n",
       "    </tr>\n",
       "    <tr>\n",
       "      <th>2</th>\n",
       "      <td>41609</td>\n",
       "      <td>-3.00</td>\n",
       "      <td>-5.02</td>\n",
       "      <td>-0.99</td>\n",
       "      <td>feces</td>\n",
       "    </tr>\n",
       "    <tr>\n",
       "      <th>3</th>\n",
       "      <td>82798</td>\n",
       "      <td>24.15</td>\n",
       "      <td>2.18</td>\n",
       "      <td>13.85</td>\n",
       "      <td>feces</td>\n",
       "    </tr>\n",
       "    <tr>\n",
       "      <th>4</th>\n",
       "      <td>73297</td>\n",
       "      <td>4.55</td>\n",
       "      <td>4.96</td>\n",
       "      <td>-0.76</td>\n",
       "      <td>feces</td>\n",
       "    </tr>\n",
       "  </tbody>\n",
       "</table>\n",
       "</div>"
      ],
      "text/plain": [
       "   sample_id     0     1     2 env_material\n",
       "0      47146  7.81  1.21  4.99        feces\n",
       "1      22501  0.58 -4.22 -0.34        feces\n",
       "2      41609 -3.00 -5.02 -0.99        feces\n",
       "3      82798 24.15  2.18 13.85        feces\n",
       "4      73297  4.55  4.96 -0.76        feces"
      ]
     },
     "execution_count": 15,
     "metadata": {},
     "output_type": "execute_result"
    }
   ],
   "source": [
    "hyper_df.head()"
   ]
  },
  {
   "cell_type": "code",
   "execution_count": 16,
   "metadata": {},
   "outputs": [],
   "source": [
    "hyper_df.columns = ['sample_id', 'PC1', 'PC2', 'PC3', 'label']"
   ]
  },
  {
   "cell_type": "code",
   "execution_count": 17,
   "metadata": {},
   "outputs": [
    {
     "data": {
      "text/plain": [
       "feces     17229\n",
       "saliva     1311\n",
       "sebum      1221\n",
       "Name: label, dtype: int64"
      ]
     },
     "execution_count": 17,
     "metadata": {},
     "output_type": "execute_result"
    }
   ],
   "source": [
    "hyper_df.label.value_counts()"
   ]
  },
  {
   "cell_type": "code",
   "execution_count": 23,
   "metadata": {},
   "outputs": [],
   "source": [
    "hyper_df.to_csv('../data/6.2.19.pca.data/output_data/hyper_pca.csv')"
   ]
  }
 ],
 "metadata": {
  "kernelspec": {
   "display_name": "py3dev",
   "language": "python",
   "name": "py3dev"
  },
  "language_info": {
   "codemirror_mode": {
    "name": "ipython",
    "version": 3
   },
   "file_extension": ".py",
   "mimetype": "text/x-python",
   "name": "python",
   "nbconvert_exporter": "python",
   "pygments_lexer": "ipython3",
   "version": "3.6.2"
  }
 },
 "nbformat": 4,
 "nbformat_minor": 2
}
